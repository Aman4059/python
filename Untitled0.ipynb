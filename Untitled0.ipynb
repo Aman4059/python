{
  "nbformat": 4,
  "nbformat_minor": 0,
  "metadata": {
    "colab": {
      "provenance": [],
      "authorship_tag": "ABX9TyMdEGGhzoaFv7NFtmDB297O",
      "include_colab_link": true
    },
    "kernelspec": {
      "name": "python3",
      "display_name": "Python 3"
    },
    "language_info": {
      "name": "python"
    }
  },
  "cells": [
    {
      "cell_type": "markdown",
      "metadata": {
        "id": "view-in-github",
        "colab_type": "text"
      },
      "source": [
        "<a href=\"https://colab.research.google.com/github/Aman4059/python/blob/main/Untitled0.ipynb\" target=\"_parent\"><img src=\"https://colab.research.google.com/assets/colab-badge.svg\" alt=\"Open In Colab\"/></a>"
      ]
    },
    {
      "cell_type": "code",
      "execution_count": 1,
      "metadata": {
        "colab": {
          "base_uri": "https://localhost:8080/"
        },
        "id": "5UJP4rWFpAhN",
        "outputId": "34579300-e21f-4594-88f1-607efa64355e"
      },
      "outputs": [
        {
          "output_type": "stream",
          "name": "stdout",
          "text": [
            "Welcome to LED Brightness Control!\n",
            "Commands:\n",
            "'i' to increase brightness\n",
            "'d' to decrease brightness\n",
            "'q' to quit the program\n",
            "Enter command: i\n",
            "Brightness increased to: 60%\n",
            "Brightness Visual: [||||||]\n",
            "\n",
            "Enter command: i\n",
            "Brightness increased to: 70%\n",
            "Brightness Visual: [|||||||]\n",
            "\n",
            "Enter command: d\n",
            "Brightness decreased to: 60%\n",
            "Brightness Visual: [||||||]\n",
            "\n",
            "Enter command: q\n",
            "Exiting LED Brightness Control. Goodbye!\n"
          ]
        }
      ],
      "source": [
        "def led_brightness_control():\n",
        "    min_brightness = 0\n",
        "    max_brightness = 100\n",
        "    step_size = 10\n",
        "    brightness = 50\n",
        "    print(\"Welcome to LED Brightness Control!\")\n",
        "    print(\"Commands:\")\n",
        "    print(\"'i' to increase brightness\")\n",
        "    print(\"'d' to decrease brightness\")\n",
        "    print(\"'q' to quit the program\")\n",
        "\n",
        "\n",
        "    while True:\n",
        "\n",
        "        command = input(\"Enter command: \").strip().lower()\n",
        "\n",
        "        if command == 'i':\n",
        "\n",
        "            if brightness + step_size <= max_brightness:\n",
        "                brightness += step_size\n",
        "                print(f\"Brightness increased to: {brightness}%\")\n",
        "            else:\n",
        "                print(\"Brightness is already at maximum!\")\n",
        "        elif command == 'd':\n",
        "\n",
        "            if brightness - step_size >= min_brightness:\n",
        "                brightness -= step_size\n",
        "                print(f\"Brightness decreased to: {brightness}%\")\n",
        "            else:\n",
        "                print(\"Brightness is already at minimum!\")\n",
        "        elif command == 'q':\n",
        "\n",
        "            print(\"Exiting LED Brightness Control. Goodbye!\")\n",
        "            break\n",
        "        else:\n",
        "\n",
        "            print(\"Invalid command. Please try again.\")\n",
        "\n",
        "\n",
        "        visual = '|' * (brightness // step_size)\n",
        "        print(f\"Brightness Visual: [{visual}]\\n\")\n",
        "led_brightness_control()\n"
      ]
    }
  ]
}